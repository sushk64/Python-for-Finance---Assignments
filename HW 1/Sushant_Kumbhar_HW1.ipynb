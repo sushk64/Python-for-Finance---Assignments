{
 "cells": [
  {
   "cell_type": "markdown",
   "metadata": {},
   "source": [
    "# ASSIGNMENT_1_Sushant_Kumbhar"
   ]
  },
  {
   "cell_type": "code",
   "execution_count": 1,
   "metadata": {
    "scrolled": false
   },
   "outputs": [
    {
     "name": "stdout",
     "output_type": "stream",
     "text": [
      "python\n"
     ]
    }
   ],
   "source": [
    "#1.1\n",
    "str = 'python'       #1.1 Print string variable and print it\n",
    "print(str)"
   ]
  },
  {
   "cell_type": "code",
   "execution_count": 2,
   "metadata": {},
   "outputs": [
    {
     "name": "stdout",
     "output_type": "stream",
     "text": [
      "I am a student\n"
     ]
    }
   ],
   "source": [
    "#1.2\n",
    "str = 'I am a student'     #1.2 Define a string (I’m a student), print it.\n",
    "print(str)"
   ]
  },
  {
   "cell_type": "code",
   "execution_count": 3,
   "metadata": {},
   "outputs": [
    {
     "name": "stdout",
     "output_type": "stream",
     "text": [
      "how do you think of this course?      \n",
      "describe your feeling of this course\n"
     ]
    }
   ],
   "source": [
    "#1.3  Defining a string\n",
    "str = '''how do you think of this course?      \n",
    "describe your feeling of this course'''         \n",
    "\n",
    "print(str)"
   ]
  },
  {
   "cell_type": "code",
   "execution_count": 4,
   "metadata": {},
   "outputs": [
    {
     "name": "stdout",
     "output_type": "stream",
     "text": [
      "109\n"
     ]
    }
   ],
   "source": [
    "#2.1\n",
    "a = 100\n",
    "b = 9\n",
    "c = a + b\n",
    "print(c)"
   ]
  },
  {
   "cell_type": "code",
   "execution_count": 5,
   "metadata": {},
   "outputs": [
    {
     "name": "stdout",
     "output_type": "stream",
     "text": [
      "11.11111111111111\n"
     ]
    }
   ],
   "source": [
    "#2.2\n",
    "print(a/b)"
   ]
  },
  {
   "cell_type": "code",
   "execution_count": 6,
   "metadata": {},
   "outputs": [
    {
     "name": "stdout",
     "output_type": "stream",
     "text": [
      "11\n"
     ]
    }
   ],
   "source": [
    "#2.3\n",
    "print(int(a/b)) #int function gives just the integer part"
   ]
  },
  {
   "cell_type": "code",
   "execution_count": 7,
   "metadata": {},
   "outputs": [
    {
     "name": "stdout",
     "output_type": "stream",
     "text": [
      "1\n"
     ]
    }
   ],
   "source": [
    "#2.4\n",
    "print(a%b) # % Arithmatic operator gives the remainder "
   ]
  },
  {
   "cell_type": "code",
   "execution_count": 8,
   "metadata": {},
   "outputs": [
    {
     "name": "stdout",
     "output_type": "stream",
     "text": [
      "1000000000000000000\n"
     ]
    }
   ],
   "source": [
    "#2.5\n",
    "\n",
    "print(a**b)  # ** gives raised to the power of"
   ]
  },
  {
   "cell_type": "code",
   "execution_count": 9,
   "metadata": {},
   "outputs": [
    {
     "data": {
      "text/plain": [
       "False"
      ]
     },
     "execution_count": 9,
     "metadata": {},
     "output_type": "execute_result"
    }
   ],
   "source": [
    "# 2.6\n",
    "a == b  # == comparison operator compares if two are equal"
   ]
  },
  {
   "cell_type": "code",
   "execution_count": 10,
   "metadata": {},
   "outputs": [
    {
     "data": {
      "text/plain": [
       "True"
      ]
     },
     "execution_count": 10,
     "metadata": {},
     "output_type": "execute_result"
    }
   ],
   "source": [
    "# 2.7\n",
    "a > b  # > comparison operator compares the two numbers"
   ]
  },
  {
   "cell_type": "code",
   "execution_count": 11,
   "metadata": {},
   "outputs": [
    {
     "data": {
      "text/plain": [
       "6"
      ]
     },
     "execution_count": 11,
     "metadata": {},
     "output_type": "execute_result"
    }
   ],
   "source": [
    "#3.1\n",
    "List_A = [100, 99.99, 'hello', 'world', 0, 0.1]  #Defining List_A\n",
    "len(List_A)                   # Checking length of List_A"
   ]
  },
  {
   "cell_type": "code",
   "execution_count": 12,
   "metadata": {},
   "outputs": [
    {
     "name": "stdout",
     "output_type": "stream",
     "text": [
      "[100, 99.99, 'hello', 'world', 0, 0.1, 'hi', 'python', 3]\n"
     ]
    }
   ],
   "source": [
    "# Using extend function to add elements in the list\n",
    "List_B = ['hi', 'python', 3]\n",
    "\n",
    "List_A.extend(List_B)    # Extinding List_A with List_B\n",
    "print(List_A)"
   ]
  },
  {
   "cell_type": "code",
   "execution_count": 13,
   "metadata": {},
   "outputs": [
    {
     "name": "stdout",
     "output_type": "stream",
     "text": [
      "[100, 99.99, 'hello', 'world', 0, 0.1, ['hi', 'python', 3]]\n"
     ]
    }
   ],
   "source": [
    "# Usine append function to add a list as an element\n",
    "List_A = [100, 99.99, 'hello', 'world', 0, 0.1]\n",
    "List_B = ['hi', 'python', 3]\n",
    "List_A.append(List_B)    # Appendign List_A with List_B\n",
    "print(List_A)"
   ]
  },
  {
   "cell_type": "code",
   "execution_count": 14,
   "metadata": {},
   "outputs": [
    {
     "name": "stdout",
     "output_type": "stream",
     "text": [
      "[100, 'FE520', 99.99, 'hello', 'world', 0, 0.1, ['hi', 'python', 3]]\n"
     ]
    }
   ],
   "source": [
    "List_A.insert(1,'FE520')  # insert function inserts an element at given index\n",
    "print(List_A)"
   ]
  },
  {
   "cell_type": "code",
   "execution_count": 15,
   "metadata": {},
   "outputs": [
    {
     "name": "stdout",
     "output_type": "stream",
     "text": [
      "[100, 99.99, 'hello', 'world', 0, 0.1, ['hi', 'python', 3]]\n"
     ]
    }
   ],
   "source": [
    "del List_A[1]  # del deletes an item from the list\n",
    "print(List_A)"
   ]
  },
  {
   "cell_type": "code",
   "execution_count": 16,
   "metadata": {},
   "outputs": [
    {
     "data": {
      "text/plain": [
       "[100, 99.99, 'hello', 'world', 0, 0.1, ['hi', 'python', 3]]"
      ]
     },
     "execution_count": 16,
     "metadata": {},
     "output_type": "execute_result"
    }
   ],
   "source": [
    "#3.4\n",
    "List_A"
   ]
  },
  {
   "cell_type": "code",
   "execution_count": 17,
   "metadata": {},
   "outputs": [
    {
     "data": {
      "text/plain": [
       "['hi', 'python', 3]"
      ]
     },
     "execution_count": 17,
     "metadata": {},
     "output_type": "execute_result"
    }
   ],
   "source": [
    "List_A[-1] # gives the last value of list"
   ]
  },
  {
   "cell_type": "code",
   "execution_count": 18,
   "metadata": {},
   "outputs": [
    {
     "data": {
      "text/plain": [
       "[100, 99.99, 'hello', 'world', 0, 0.1]"
      ]
     },
     "execution_count": 18,
     "metadata": {},
     "output_type": "execute_result"
    }
   ],
   "source": [
    "del List_A[-1]\n",
    "List_A"
   ]
  },
  {
   "cell_type": "code",
   "execution_count": 19,
   "metadata": {},
   "outputs": [
    {
     "data": {
      "text/plain": [
       "['hello', 'world', 0, 0.1]"
      ]
     },
     "execution_count": 19,
     "metadata": {},
     "output_type": "execute_result"
    }
   ],
   "source": [
    "#3.5\n",
    "List_C = List_A[2:] #slicing the list from third place \n",
    "List_C"
   ]
  },
  {
   "cell_type": "code",
   "execution_count": 20,
   "metadata": {},
   "outputs": [
    {
     "data": {
      "text/plain": [
       "['hello', 'world', 0, 0.1, 'hello', 'world', 0, 0.1]"
      ]
     },
     "execution_count": 20,
     "metadata": {},
     "output_type": "execute_result"
    }
   ],
   "source": [
    "List_C = List_C*2 # Doubling the list\n",
    "List_C"
   ]
  },
  {
   "cell_type": "code",
   "execution_count": 21,
   "metadata": {},
   "outputs": [
    {
     "data": {
      "text/plain": [
       "[0.1, 0, 'world', 'hello', 0.1, 0, 'world', 'hello']"
      ]
     },
     "execution_count": 21,
     "metadata": {},
     "output_type": "execute_result"
    }
   ],
   "source": [
    "#3.7\n",
    "List_C[::-1] # Reversing the sequence from list starting from -1 index means last element"
   ]
  },
  {
   "cell_type": "code",
   "execution_count": 22,
   "metadata": {},
   "outputs": [],
   "source": [
    "# 4.1  Difining list A\n",
    "A = [1,2,3,2,1,7]"
   ]
  },
  {
   "cell_type": "code",
   "execution_count": 23,
   "metadata": {},
   "outputs": [
    {
     "name": "stdout",
     "output_type": "stream",
     "text": [
      "{1: 2, 2: 2, 3: 1, 7: 1}\n"
     ]
    }
   ],
   "source": [
    "#4.2\n",
    "counts = {}  # Creating empty dictionary\n",
    "for i in A:  # Create for loop to iterate through List A\n",
    "    if i in counts:  #Check if the element is present in count\n",
    "        counts[i] = counts[i] + 1\n",
    "    else:\n",
    "        counts[i] = 1\n",
    "print(counts)"
   ]
  },
  {
   "cell_type": "code",
   "execution_count": 24,
   "metadata": {},
   "outputs": [
    {
     "name": "stdout",
     "output_type": "stream",
     "text": [
      "5.0\n"
     ]
    }
   ],
   "source": [
    "#5\n",
    "A = [1,2,3,4,5,6,7,8,9]\n",
    "avg = ()    # create an empty variable with integer value\n",
    "\n",
    "count = 0   # set a counter eqlal to 0\n",
    "for i in A:\n",
    "    count+=1  \n",
    "    avg = sum(A)/count  # Calculate average\n",
    "print(avg)"
   ]
  },
  {
   "cell_type": "code",
   "execution_count": 30,
   "metadata": {},
   "outputs": [
    {
     "name": "stdout",
     "output_type": "stream",
     "text": [
      "m after 200 iterations: 17.724810647355827\n",
      "c after 200 iterations: 22.97599012903927\n"
     ]
    }
   ],
   "source": [
    "x = [0.18, 1.0, 0.92, 0.07, 0.85, 0.99, 0.87]\n",
    "\n",
    "y = [109.85, 155.72, 137.66, 76.17, 139.75, 162.6, 151.77]\n",
    "\n",
    "m = 0\n",
    "c = 0\n",
    "L = 0.001\n",
    "\n",
    "for it in range(0,200):\n",
    "    Dm = []\n",
    "    Dc = []\n",
    "    for i,z in zip(x,y):\n",
    "        y_pred = (m * i) + c\n",
    "        Dm.append((i*(y_pred-z)))\n",
    "        Dc.append((y_pred-z))\n",
    "    \n",
    "    dm = sum(Dm)/len(Dm)\n",
    "    dc = sum(Dc)/len(Dc)    \n",
    "\n",
    "    m = m-(L*dm)\n",
    "    c = c-(L*dc)\n",
    "    \n",
    "print('m after 200 iterations:',m)\n",
    "print('c after 200 iterations:',c)"
   ]
  },
  {
   "cell_type": "code",
   "execution_count": 31,
   "metadata": {},
   "outputs": [],
   "source": [
    "# For 200 iterations (Bonus question)\n",
    "\n",
    "x = [[0.18], [1.0], [0.92], [0.07], [0.85], [0.99], [0.87]]\n",
    "\n",
    "y = [[109.85], [155.72], [137.66], [76.17], [139.75], [162.6], [151.77]]\n",
    "\n",
    "\n"
   ]
  },
  {
   "cell_type": "code",
   "execution_count": 32,
   "metadata": {},
   "outputs": [
    {
     "name": "stdout",
     "output_type": "stream",
     "text": [
      "m after iterations: 17.724810647355827\n",
      "c after iterations: 22.97599012903927\n"
     ]
    }
   ],
   "source": [
    "\n",
    "m = 0\n",
    "c = 0\n",
    "L = 0.001\n",
    "for it in range(0,200):\n",
    "    Dm = []\n",
    "    Dc = []\n",
    "    for i in range(len(x)):  # using zip function to iterate through pairs of values x and y\n",
    "        y_pred = (m * x[i][0]) + c\n",
    "        Dm.append((x[i][0]*(y_pred-y[i][0])))  # appending new values of Dm for every iteration\n",
    "        Dc.append((y_pred-y[i][0]))\n",
    "    \n",
    "    dm = sum(Dm)/len(Dm)\n",
    "    dc = sum(Dc)/len(Dc)    \n",
    "\n",
    "    m = m-(L*dm)\n",
    "    c = c-(L*dc)\n",
    "    \n",
    "print('m after iterations:',m)\n",
    "print('c after iterations:',c)\n",
    "\n"
   ]
  },
  {
   "cell_type": "code",
   "execution_count": null,
   "metadata": {},
   "outputs": [],
   "source": []
  }
 ],
 "metadata": {
  "kernelspec": {
   "display_name": "Python 3",
   "language": "python",
   "name": "python3"
  },
  "language_info": {
   "codemirror_mode": {
    "name": "ipython",
    "version": 3
   },
   "file_extension": ".py",
   "mimetype": "text/x-python",
   "name": "python",
   "nbconvert_exporter": "python",
   "pygments_lexer": "ipython3",
   "version": "3.8.5"
  }
 },
 "nbformat": 4,
 "nbformat_minor": 4
}
